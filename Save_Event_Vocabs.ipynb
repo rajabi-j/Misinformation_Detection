{
  "cells": [
    {
      "cell_type": "markdown",
      "metadata": {
        "id": "J144yFUkeZQQ"
      },
      "source": [
        "## Stores Events Vocabularies to be used in A Matrices "
      ]
    },
    {
      "cell_type": "code",
      "execution_count": 1,
      "metadata": {
        "id": "p4TfwoNppgaX"
      },
      "outputs": [],
      "source": [
        "import numpy  as np\n",
        "import pandas as pd\n",
        "import pickle\n"
      ]
    },
    {
      "cell_type": "code",
      "execution_count": 2,
      "metadata": {
        "id": "65gkV-8MptFO"
      },
      "outputs": [],
      "source": [
        "pkl_file_path = 'train_w_time_10232023.pkl'\n",
        "\n",
        "with open(pkl_file_path, 'rb') as file:\n",
        "    train_data = pd.read_pickle(file)\n",
        "\n",
        "train_df = pd.DataFrame(train_data)\n",
        "\n",
        "pkl_file_path = 'test_w_time_10232023.pkl'\n",
        "\n",
        "with open(pkl_file_path, 'rb') as file:\n",
        "    test_data = pd.read_pickle(file)\n",
        "\n",
        "test_df = pd.DataFrame(test_data)"
      ]
    },
    {
      "cell_type": "code",
      "execution_count": 3,
      "metadata": {
        "colab": {
          "base_uri": "https://localhost:8080/"
        },
        "id": "hb5_Aoz0p1ZO",
        "outputId": "e41ab559-b7d1-4dfe-ae34-60538f159605"
      },
      "outputs": [
        {
          "data": {
            "text/plain": [
              "Index(['tweet_id', 'lang', 'res_image_vectors', 'vgg_image_vectors',\n",
              "       'tweet_text', 'label', 'event', 'new_img_id', 'clean_tweet', 'cl_len',\n",
              "       'text_feats_1', 'text_feats_2', 'pooler', 'sm_last_four_concat',\n",
              "       'mn_last_four_concat', 'mn_2ndtolast_lyr', 'sm_2ndtolast_lyr',\n",
              "       'num_friends', 'num_followers', 'folfriend_ratio', 'times_listed',\n",
              "       'has_url', 'is_verified', 'num_posts', 'num_words', 'text_length',\n",
              "       'contains_questmark', 'num_questmark', 'contains_exclammark',\n",
              "       'num_exclammark', 'contains_happyemo', 'contains_sademo',\n",
              "       'contains_firstorderpron', 'contains_secondorderpron',\n",
              "       'contains_thirdorderpron', 'num_uppercasechars', 'num_possentiwords',\n",
              "       'num_negsentiwords', 'num_mentions', 'num_hashtags', 'num_URLs',\n",
              "       'num_retweets', 'semi_clean', 'reading_ease', 'reading_grade',\n",
              "       'compound_score', 'neg_score', 'pos_score', 'neutral_score',\n",
              "       'vgg19_img_vectors', 'Topic20', 'Topic10', 'Topic5', 'caption',\n",
              "       'capt_feats', 'Topic200', 'Topic300', 'new_ev', 'event_feat',\n",
              "       'Topic200_200', 'Topic200_300', 'Topic200_500', 'timestamp', 'weekday',\n",
              "       'mdy', 'tm', 'mdy_tm'],\n",
              "      dtype='object')"
            ]
          },
          "execution_count": 3,
          "metadata": {},
          "output_type": "execute_result"
        }
      ],
      "source": [
        "# Assuming context_df and context_df_test are already defined Pandas DataFrames\n",
        "concatenated_df = pd.concat([train_df, test_df], ignore_index=True)\n",
        "concatenated_df.columns"
      ]
    },
    {
      "cell_type": "code",
      "execution_count": 4,
      "metadata": {
        "colab": {
          "base_uri": "https://localhost:8080/"
        },
        "id": "yXWur-eip4Jn",
        "outputId": "1055a90f-1b73-467e-ba01-afc586335d47"
      },
      "outputs": [
        {
          "name": "stdout",
          "output_type": "stream",
          "text": [
            "tweet_text     Don't need feds to solve the #bostonbombing when we have #4chan!! http://t.co/eXQTPZqqbG\n",
            "clean_tweet                                              [don, need, feds, solve, bostonbombing, 4chan]\n",
            "Name: 0, dtype: object\n"
          ]
        }
      ],
      "source": [
        "with pd.option_context('display.max_colwidth', None):\n",
        "  selected_columns = ['tweet_text', 'clean_tweet']\n",
        "  print(concatenated_df[selected_columns].iloc[0])"
      ]
    },
    {
      "cell_type": "code",
      "execution_count": 5,
      "metadata": {
        "colab": {
          "base_uri": "https://localhost:8080/"
        },
        "id": "nNzna_sGp6i1",
        "outputId": "0645c9af-7b30-492b-934d-0f9349dee5d3"
      },
      "outputs": [
        {
          "data": {
            "text/plain": [
              "386"
            ]
          },
          "execution_count": 5,
          "metadata": {},
          "output_type": "execute_result"
        }
      ],
      "source": [
        "len(concatenated_df['mdy'].unique())"
      ]
    },
    {
      "cell_type": "code",
      "execution_count": 6,
      "metadata": {
        "colab": {
          "base_uri": "https://localhost:8080/"
        },
        "id": "tUGfXtY4p8lG",
        "outputId": "3f8851ff-63d1-4ed0-ff5c-c6a912c20410"
      },
      "outputs": [
        {
          "data": {
            "text/plain": [
              "(9938, 67)"
            ]
          },
          "execution_count": 6,
          "metadata": {},
          "output_type": "execute_result"
        }
      ],
      "source": [
        "concatenated_df.shape"
      ]
    },
    {
      "cell_type": "code",
      "execution_count": 7,
      "metadata": {
        "colab": {
          "base_uri": "https://localhost:8080/"
        },
        "id": "MBRDAOBxqBmB",
        "outputId": "ee84e3d5-6252-4361-bf99-14055e0a64ef"
      },
      "outputs": [
        {
          "data": {
            "text/plain": [
              "array(['boston', 'malaysia', 'passport', 'sandy', 'sochi', 'bringback',\n",
              "       'columbianChemicals', 'elephant', 'livr', 'pigFish', 'underwater',\n",
              "       'eclipse', 'samurai', 'nepal', 'garissa', 'fuji_lenticular',\n",
              "       'bush_book', 'gandhi_dancing', 'attacks_paris', 'bowie_david',\n",
              "       'pakistan_explosion', 'refugees', 'protest', 'not_afraid',\n",
              "       'rio_moon', 'immigrants', 'john_guevara', 'syrian_children',\n",
              "       'mc_donalds', 'brussels_explosions', 'half_everything',\n",
              "       'hubble_telescope', 'woman_14', 'north_korea', 'five_headed',\n",
              "       'burst_kfc', 'black_lion', 'nazi_submarine'], dtype=object)"
            ]
          },
          "execution_count": 7,
          "metadata": {},
          "output_type": "execute_result"
        }
      ],
      "source": [
        "concatenated_df['event'].unique()"
      ]
    },
    {
      "cell_type": "code",
      "execution_count": 8,
      "metadata": {
        "colab": {
          "base_uri": "https://localhost:8080/"
        },
        "id": "cdMa5ZL3qEbx",
        "outputId": "0ba52d35-b7a7-4a2d-a4b5-f32624e34a8a"
      },
      "outputs": [
        {
          "name": "stdout",
          "output_type": "stream",
          "text": [
            "2324\n",
            "1\n"
          ]
        },
        {
          "data": {
            "text/plain": [
              "9938"
            ]
          },
          "execution_count": 8,
          "metadata": {},
          "output_type": "execute_result"
        }
      ],
      "source": [
        "time_text = concatenated_df.groupby('mdy')\n",
        "time_counts = time_text['tweet_text'].count()\n",
        "print(time_counts.max())\n",
        "print(time_counts.min())\n",
        "time_counts.sum()"
      ]
    },
    {
      "cell_type": "code",
      "execution_count": 9,
      "metadata": {
        "colab": {
          "base_uri": "https://localhost:8080/"
        },
        "id": "c2eazi13qPit",
        "outputId": "84ce5638-58b4-438c-8edc-2c88d00a1720"
      },
      "outputs": [
        {
          "data": {
            "text/plain": [
              "event\n",
              "attacks_paris           181\n",
              "black_lion                7\n",
              "boston                  474\n",
              "bowie_david              64\n",
              "bringback               109\n",
              "brussels_explosions       9\n",
              "burst_kfc                15\n",
              "bush_book                25\n",
              "columbianChemicals      182\n",
              "eclipse                 200\n",
              "elephant                 11\n",
              "five_headed               5\n",
              "fuji_lenticular         147\n",
              "gandhi_dancing           13\n",
              "garissa                  44\n",
              "half_everything          34\n",
              "hubble_telescope         17\n",
              "immigrants               30\n",
              "john_guevara             10\n",
              "livr                      2\n",
              "malaysia                165\n",
              "mc_donalds                5\n",
              "nazi_submarine           10\n",
              "nepal                  1250\n",
              "north_korea               7\n",
              "not_afraid               48\n",
              "pakistan_explosion       34\n",
              "passport                 41\n",
              "pigFish                  12\n",
              "protest                  34\n",
              "refugees                 53\n",
              "rio_moon                 26\n",
              "samurai                 213\n",
              "sandy                  6073\n",
              "sochi                   259\n",
              "syrian_children          11\n",
              "underwater              107\n",
              "woman_14                 11\n",
              "Name: event, dtype: int64"
            ]
          },
          "execution_count": 9,
          "metadata": {},
          "output_type": "execute_result"
        }
      ],
      "source": [
        "event_text = concatenated_df.groupby('event')\n",
        "event_counts = event_text['event'].count()\n",
        "event_counts"
      ]
    },
    {
      "cell_type": "code",
      "execution_count": 10,
      "metadata": {
        "id": "RBgIlm55qRrg"
      },
      "outputs": [],
      "source": [
        "from datetime import datetime\n",
        "def convert_datetime(date_time):\n",
        "\n",
        "    formatted_date = date_time.strftime('%y%m%d')\n",
        "\n",
        "    return formatted_date"
      ]
    },
    {
      "cell_type": "code",
      "execution_count": 11,
      "metadata": {
        "id": "wd1n8m6gqUNm"
      },
      "outputs": [],
      "source": [
        "text_time_t = {}\n",
        "vocab_time_t = {}\n",
        "total_vocab = []\n",
        "all_unique_elements = set()\n",
        "\n",
        "# Iterate through the grouped data\n",
        "time_t = 0\n",
        "for time_stamp, group in event_text:\n",
        "  all_elements = []\n",
        "  unique_elements = set()\n",
        "  for elements in group['clean_tweet']:\n",
        "    all_elements.extend(elements)\n",
        "    unique_elements.update(elements)\n",
        "  text_time_t[time_t] = all_elements\n",
        "  vocab_time_t[time_t] = list(unique_elements)\n",
        "  all_unique_elements.update(unique_elements)\n",
        "  time_t += 1\n",
        "\n",
        "\n",
        "total_vocab = list(all_unique_elements)"
      ]
    },
    {
      "cell_type": "code",
      "execution_count": 12,
      "metadata": {
        "colab": {
          "base_uri": "https://localhost:8080/"
        },
        "id": "pCajwZ2GqX0t",
        "outputId": "1077bb11-6e3a-4a29-edba-d7d4dbd9e826"
      },
      "outputs": [
        {
          "name": "stdout",
          "output_type": "stream",
          "text": [
            "254 1585\n",
            "17 51\n",
            "962 4039\n",
            "184 494\n",
            "233 533\n",
            "32 89\n",
            "27 85\n",
            "130 290\n",
            "407 1441\n",
            "325 1579\n",
            "6 28\n",
            "18 32\n",
            "270 1177\n",
            "64 113\n",
            "177 459\n",
            "37 301\n",
            "45 149\n",
            "167 270\n",
            "18 67\n",
            "16 20\n",
            "426 1365\n",
            "27 49\n",
            "15 81\n",
            "1060 11120\n",
            "18 61\n",
            "147 268\n",
            "71 289\n",
            "93 338\n",
            "62 80\n",
            "145 270\n",
            "217 525\n",
            "57 237\n",
            "108 2060\n",
            "4963 42637\n",
            "800 2043\n",
            "34 120\n",
            "106 856\n",
            "29 101\n"
          ]
        }
      ],
      "source": [
        "for t in vocab_time_t:\n",
        "    print(len(vocab_time_t[t]), len(text_time_t[t]))"
      ]
    },
    {
      "cell_type": "code",
      "execution_count": 21,
      "metadata": {},
      "outputs": [],
      "source": [
        "results_file = 'event_vocabs.pkl'\n",
        "with open(results_file, 'wb') as f:\n",
        "    pickle.dump(vocab_time_t, f)"
      ]
    },
    {
      "cell_type": "code",
      "execution_count": null,
      "metadata": {
        "colab": {
          "base_uri": "https://localhost:8080/"
        },
        "id": "xrwNPmgSqZ-W",
        "outputId": "9de02dae-6864-44bb-a95e-afd26e10b673"
      },
      "outputs": [
        {
          "data": {
            "text/plain": [
              "7791"
            ]
          },
          "execution_count": 21,
          "metadata": {},
          "output_type": "execute_result"
        }
      ],
      "source": [
        "len(total_vocab)"
      ]
    }
  ],
  "metadata": {
    "colab": {
      "provenance": []
    },
    "kernelspec": {
      "display_name": "Python 3",
      "name": "python3"
    },
    "language_info": {
      "codemirror_mode": {
        "name": "ipython",
        "version": 3
      },
      "file_extension": ".py",
      "mimetype": "text/x-python",
      "name": "python",
      "nbconvert_exporter": "python",
      "pygments_lexer": "ipython3",
      "version": "3.10.11"
    }
  },
  "nbformat": 4,
  "nbformat_minor": 0
}
