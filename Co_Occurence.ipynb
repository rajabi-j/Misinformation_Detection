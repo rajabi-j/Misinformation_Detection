{
  "nbformat": 4,
  "nbformat_minor": 0,
  "metadata": {
    "colab": {
      "provenance": []
    },
    "kernelspec": {
      "name": "python3",
      "display_name": "Python 3"
    },
    "language_info": {
      "name": "python"
    }
  },
  "cells": [
    {
      "cell_type": "code",
      "source": [
        "import pickle\n",
        "import pandas as pd\n",
        "import numpy as np"
      ],
      "metadata": {
        "id": "bo5_nloNDiTJ"
      },
      "execution_count": null,
      "outputs": []
    },
    {
      "cell_type": "code",
      "source": [
        "pkl_file_path = '/content/drive/MyDrive/NLPR/train_w_time_10232023.pkl'\n",
        "\n",
        "with open(pkl_file_path, 'rb') as file:\n",
        "    train_data = pickle.load(file)\n",
        "\n",
        "train_df = pd.DataFrame(train_data)\n",
        "\n",
        "pkl_file_path = '/content/drive/MyDrive/NLPR/test_w_time_10232023.pkl'\n",
        "\n",
        "with open(pkl_file_path, 'rb') as file:\n",
        "    test_data = pickle.load(file)\n",
        "\n",
        "test_df = pd.DataFrame(test_data)"
      ],
      "metadata": {
        "id": "HUHuKF5ya3zY"
      },
      "execution_count": null,
      "outputs": []
    },
    {
      "cell_type": "code",
      "source": [
        "train_df = train_df.drop('cl_len', axis=1)"
      ],
      "metadata": {
        "id": "6lzJZlRUc1H-"
      },
      "execution_count": null,
      "outputs": []
    },
    {
      "cell_type": "code",
      "source": [
        "train_df.columns"
      ],
      "metadata": {
        "colab": {
          "base_uri": "https://localhost:8080/"
        },
        "id": "W8SIu24xcEjg",
        "outputId": "8373994e-90ef-40b7-c49d-58131dca38bc"
      },
      "execution_count": null,
      "outputs": [
        {
          "output_type": "execute_result",
          "data": {
            "text/plain": [
              "Index(['tweet_id', 'lang', 'res_image_vectors', 'vgg_image_vectors',\n",
              "       'tweet_text', 'label', 'event', 'new_img_id', 'clean_tweet',\n",
              "       'text_feats_1', 'text_feats_2', 'pooler', 'sm_last_four_concat',\n",
              "       'mn_last_four_concat', 'mn_2ndtolast_lyr', 'sm_2ndtolast_lyr',\n",
              "       'num_friends', 'num_followers', 'folfriend_ratio', 'times_listed',\n",
              "       'has_url', 'is_verified', 'num_posts', 'num_words', 'text_length',\n",
              "       'contains_questmark', 'num_questmark', 'contains_exclammark',\n",
              "       'num_exclammark', 'contains_happyemo', 'contains_sademo',\n",
              "       'contains_firstorderpron', 'contains_secondorderpron',\n",
              "       'contains_thirdorderpron', 'num_uppercasechars', 'num_possentiwords',\n",
              "       'num_negsentiwords', 'num_mentions', 'num_hashtags', 'num_URLs',\n",
              "       'num_retweets', 'semi_clean', 'reading_ease', 'reading_grade',\n",
              "       'compound_score', 'neg_score', 'pos_score', 'neutral_score',\n",
              "       'vgg19_img_vectors', 'Topic20', 'Topic10', 'Topic5', 'caption',\n",
              "       'capt_feats', 'Topic200', 'Topic300', 'new_ev', 'event_feat',\n",
              "       'Topic200_200', 'Topic200_300', 'Topic200_500', 'timestamp', 'weekday',\n",
              "       'mdy', 'tm', 'mdy_tm'],\n",
              "      dtype='object')"
            ]
          },
          "metadata": {},
          "execution_count": 37
        }
      ]
    },
    {
      "cell_type": "code",
      "source": [
        "test_df.columns"
      ],
      "metadata": {
        "colab": {
          "base_uri": "https://localhost:8080/"
        },
        "id": "qFSejtlEcIEP",
        "outputId": "b8a9714a-1f25-490a-d827-f30a0370336c"
      },
      "execution_count": null,
      "outputs": [
        {
          "output_type": "execute_result",
          "data": {
            "text/plain": [
              "Index(['tweet_id', 'lang', 'res_image_vectors', 'vgg_image_vectors',\n",
              "       'tweet_text', 'label', 'event', 'new_img_id', 'clean_tweet',\n",
              "       'text_feats_1', 'text_feats_2', 'pooler', 'sm_last_four_concat',\n",
              "       'mn_last_four_concat', 'mn_2ndtolast_lyr', 'sm_2ndtolast_lyr',\n",
              "       'num_friends', 'num_followers', 'folfriend_ratio', 'times_listed',\n",
              "       'has_url', 'is_verified', 'num_posts', 'num_words', 'text_length',\n",
              "       'contains_questmark', 'num_questmark', 'contains_exclammark',\n",
              "       'num_exclammark', 'contains_happyemo', 'contains_sademo',\n",
              "       'contains_firstorderpron', 'contains_secondorderpron',\n",
              "       'contains_thirdorderpron', 'num_uppercasechars', 'num_possentiwords',\n",
              "       'num_negsentiwords', 'num_mentions', 'num_hashtags', 'num_URLs',\n",
              "       'num_retweets', 'semi_clean', 'reading_ease', 'reading_grade',\n",
              "       'compound_score', 'neg_score', 'pos_score', 'neutral_score',\n",
              "       'vgg19_img_vectors', 'Topic20', 'Topic10', 'Topic5', 'caption',\n",
              "       'capt_feats', 'Topic200', 'Topic300', 'new_ev', 'event_feat',\n",
              "       'Topic200_200', 'Topic200_300', 'Topic200_500', 'timestamp', 'weekday',\n",
              "       'mdy', 'tm', 'mdy_tm'],\n",
              "      dtype='object')"
            ]
          },
          "metadata": {},
          "execution_count": 34
        }
      ]
    },
    {
      "cell_type": "code",
      "source": [
        "if train_df.columns.equals(test_df.columns):\n",
        "    # Concatenate the DataFrames\n",
        "    stacked_df = pd.concat([train_df, test_df], ignore_index=True)\n",
        "    stacked_df.to_pickle('/content/drive/MyDrive/NLPR/combined_data_12022023.pkl')\n",
        "else:\n",
        "    # Handle the case where columns do not match\n",
        "    print(\"The columns of the DataFrames are not identical.\")\n",
        "\n"
      ],
      "metadata": {
        "id": "9yKCkt2HbhEs"
      },
      "execution_count": null,
      "outputs": []
    },
    {
      "cell_type": "code",
      "source": [
        "context_df = pd.read_pickle('/content/drive/MyDrive/NLPR/combined_data_12022023.pkl')"
      ],
      "metadata": {
        "id": "wSVz4LzC3BaJ"
      },
      "execution_count": null,
      "outputs": []
    },
    {
      "cell_type": "code",
      "source": [
        "context_df.columns"
      ],
      "metadata": {
        "colab": {
          "base_uri": "https://localhost:8080/"
        },
        "id": "HOwcqwF5OTbv",
        "outputId": "eb17fe62-9b90-48f3-86e9-aaa1631f3730"
      },
      "execution_count": null,
      "outputs": [
        {
          "output_type": "execute_result",
          "data": {
            "text/plain": [
              "Index(['tweet_id', 'lang', 'res_image_vectors', 'vgg_image_vectors',\n",
              "       'tweet_text', 'label', 'event', 'new_img_id', 'clean_tweet', 'cl_len',\n",
              "       'text_feats_1', 'text_feats_2', 'pooler', 'sm_last_four_concat',\n",
              "       'mn_last_four_concat', 'mn_2ndtolast_lyr', 'sm_2ndtolast_lyr',\n",
              "       'num_friends', 'num_followers', 'folfriend_ratio', 'times_listed',\n",
              "       'has_url', 'is_verified', 'num_posts', 'num_words', 'text_length',\n",
              "       'contains_questmark', 'num_questmark', 'contains_exclammark',\n",
              "       'num_exclammark', 'contains_happyemo', 'contains_sademo',\n",
              "       'contains_firstorderpron', 'contains_secondorderpron',\n",
              "       'contains_thirdorderpron', 'num_uppercasechars', 'num_possentiwords',\n",
              "       'num_negsentiwords', 'num_mentions', 'num_hashtags', 'num_URLs',\n",
              "       'num_retweets', 'semi_clean', 'reading_ease', 'reading_grade',\n",
              "       'compound_score', 'neg_score', 'pos_score', 'neutral_score',\n",
              "       'vgg19_img_vectors', 'Topic20', 'Topic10', 'Topic5', 'caption',\n",
              "       'capt_feats', 'Topic200', 'Topic300', 'new_ev', 'event_feat',\n",
              "       'Topic200_200', 'Topic200_300', 'Topic200_500', 'timestamp', 'weekday',\n",
              "       'mdy', 'tm', 'mdy_tm'],\n",
              "      dtype='object')"
            ]
          },
          "metadata": {},
          "execution_count": 7
        }
      ]
    },
    {
      "cell_type": "code",
      "source": [
        "with pd.option_context('display.max_colwidth', None):\n",
        "  selected_columns = ['tweet_text', 'clean_tweet']\n",
        "  print(context_df[selected_columns].iloc[0])"
      ],
      "metadata": {
        "colab": {
          "base_uri": "https://localhost:8080/"
        },
        "id": "fRcdAof0Oddg",
        "outputId": "b53addc2-ea7b-4510-b3fc-33aa4bde2e6b"
      },
      "execution_count": null,
      "outputs": [
        {
          "output_type": "stream",
          "name": "stdout",
          "text": [
            "tweet_text     Don't need feds to solve the #bostonbombing when we have #4chan!! http://t.co/eXQTPZqqbG\n",
            "clean_tweet                                              [don, need, feds, solve, bostonbombing, 4chan]\n",
            "Name: 0, dtype: object\n"
          ]
        }
      ]
    },
    {
      "cell_type": "code",
      "source": [
        "len(context_df['mdy'].unique())"
      ],
      "metadata": {
        "colab": {
          "base_uri": "https://localhost:8080/"
        },
        "id": "9rXI6l-bMmqh",
        "outputId": "40583055-0ff0-43bc-93f2-1c7add17d329"
      },
      "execution_count": null,
      "outputs": [
        {
          "output_type": "execute_result",
          "data": {
            "text/plain": [
              "130"
            ]
          },
          "metadata": {},
          "execution_count": 9
        }
      ]
    },
    {
      "cell_type": "code",
      "source": [
        "context_df.shape"
      ],
      "metadata": {
        "colab": {
          "base_uri": "https://localhost:8080/"
        },
        "id": "c-Dzx3CwNIwu",
        "outputId": "121e4d4c-8498-4a6e-fe58-126c751f4ef9"
      },
      "execution_count": null,
      "outputs": [
        {
          "output_type": "execute_result",
          "data": {
            "text/plain": [
              "(9938, 66)"
            ]
          },
          "metadata": {},
          "execution_count": 40
        }
      ]
    },
    {
      "cell_type": "code",
      "source": [
        "context_df['event'].unique()"
      ],
      "metadata": {
        "colab": {
          "base_uri": "https://localhost:8080/"
        },
        "id": "nXBDOXn1xe35",
        "outputId": "cd3a2d43-cb64-4bce-a531-037f3092f030"
      },
      "execution_count": null,
      "outputs": [
        {
          "output_type": "execute_result",
          "data": {
            "text/plain": [
              "array(['boston', 'malaysia', 'passport', 'sandy', 'sochi', 'bringback',\n",
              "       'columbianChemicals', 'elephant', 'livr', 'pigFish', 'underwater',\n",
              "       'eclipse', 'samurai', 'nepal', 'garissa', 'fuji_lenticular',\n",
              "       'bush_book', 'gandhi_dancing', 'attacks_paris', 'bowie_david',\n",
              "       'pakistan_explosion', 'refugees', 'protest', 'not_afraid',\n",
              "       'rio_moon', 'immigrants', 'john_guevara', 'syrian_children',\n",
              "       'mc_donalds', 'brussels_explosions', 'half_everything',\n",
              "       'hubble_telescope', 'woman_14', 'north_korea', 'five_headed',\n",
              "       'burst_kfc', 'black_lion', 'nazi_submarine'], dtype=object)"
            ]
          },
          "metadata": {},
          "execution_count": 41
        }
      ]
    },
    {
      "cell_type": "code",
      "source": [
        "time_text = context_df.groupby('mdy')\n",
        "time_counts = time_text['tweet_text'].count()\n",
        "print(time_counts.max())\n",
        "print(time_counts.min())\n",
        "time_counts.sum()"
      ],
      "metadata": {
        "colab": {
          "base_uri": "https://localhost:8080/"
        },
        "id": "d1cfJwx0e43L",
        "outputId": "2781df35-9c7c-4757-d66b-0ae43770f161"
      },
      "execution_count": null,
      "outputs": [
        {
          "output_type": "stream",
          "name": "stdout",
          "text": [
            "2324\n",
            "1\n"
          ]
        },
        {
          "output_type": "execute_result",
          "data": {
            "text/plain": [
              "9938"
            ]
          },
          "metadata": {},
          "execution_count": 42
        }
      ]
    },
    {
      "cell_type": "code",
      "source": [
        "unique_events_per_date = time_text['event'].unique()"
      ],
      "metadata": {
        "id": "VkNvuApfs597"
      },
      "execution_count": null,
      "outputs": []
    },
    {
      "cell_type": "code",
      "source": [
        "unique_events_df = unique_events_per_date.reset_index(name='unique_events')\n",
        "unique_events_df.head()"
      ],
      "metadata": {
        "colab": {
          "base_uri": "https://localhost:8080/",
          "height": 206
        },
        "id": "QCQqj9DAxBLb",
        "outputId": "c9139956-65a4-41e7-c90a-04caf88ac671"
      },
      "execution_count": null,
      "outputs": [
        {
          "output_type": "execute_result",
          "data": {
            "text/plain": [
              "         mdy  unique_events\n",
              "0 2011-10-04  [five_headed]\n",
              "1 2011-10-22    [bush_book]\n",
              "2 2011-11-14  [five_headed]\n",
              "3 2011-12-21    [burst_kfc]\n",
              "4 2012-01-21  [five_headed]"
            ],
            "text/html": [
              "\n",
              "  <div id=\"df-3fff81f2-d1e0-4774-b25e-8c5905256975\" class=\"colab-df-container\">\n",
              "    <div>\n",
              "<style scoped>\n",
              "    .dataframe tbody tr th:only-of-type {\n",
              "        vertical-align: middle;\n",
              "    }\n",
              "\n",
              "    .dataframe tbody tr th {\n",
              "        vertical-align: top;\n",
              "    }\n",
              "\n",
              "    .dataframe thead th {\n",
              "        text-align: right;\n",
              "    }\n",
              "</style>\n",
              "<table border=\"1\" class=\"dataframe\">\n",
              "  <thead>\n",
              "    <tr style=\"text-align: right;\">\n",
              "      <th></th>\n",
              "      <th>mdy</th>\n",
              "      <th>unique_events</th>\n",
              "    </tr>\n",
              "  </thead>\n",
              "  <tbody>\n",
              "    <tr>\n",
              "      <th>0</th>\n",
              "      <td>2011-10-04</td>\n",
              "      <td>[five_headed]</td>\n",
              "    </tr>\n",
              "    <tr>\n",
              "      <th>1</th>\n",
              "      <td>2011-10-22</td>\n",
              "      <td>[bush_book]</td>\n",
              "    </tr>\n",
              "    <tr>\n",
              "      <th>2</th>\n",
              "      <td>2011-11-14</td>\n",
              "      <td>[five_headed]</td>\n",
              "    </tr>\n",
              "    <tr>\n",
              "      <th>3</th>\n",
              "      <td>2011-12-21</td>\n",
              "      <td>[burst_kfc]</td>\n",
              "    </tr>\n",
              "    <tr>\n",
              "      <th>4</th>\n",
              "      <td>2012-01-21</td>\n",
              "      <td>[five_headed]</td>\n",
              "    </tr>\n",
              "  </tbody>\n",
              "</table>\n",
              "</div>\n",
              "    <div class=\"colab-df-buttons\">\n",
              "\n",
              "  <div class=\"colab-df-container\">\n",
              "    <button class=\"colab-df-convert\" onclick=\"convertToInteractive('df-3fff81f2-d1e0-4774-b25e-8c5905256975')\"\n",
              "            title=\"Convert this dataframe to an interactive table.\"\n",
              "            style=\"display:none;\">\n",
              "\n",
              "  <svg xmlns=\"http://www.w3.org/2000/svg\" height=\"24px\" viewBox=\"0 -960 960 960\">\n",
              "    <path d=\"M120-120v-720h720v720H120Zm60-500h600v-160H180v160Zm220 220h160v-160H400v160Zm0 220h160v-160H400v160ZM180-400h160v-160H180v160Zm440 0h160v-160H620v160ZM180-180h160v-160H180v160Zm440 0h160v-160H620v160Z\"/>\n",
              "  </svg>\n",
              "    </button>\n",
              "\n",
              "  <style>\n",
              "    .colab-df-container {\n",
              "      display:flex;\n",
              "      gap: 12px;\n",
              "    }\n",
              "\n",
              "    .colab-df-convert {\n",
              "      background-color: #E8F0FE;\n",
              "      border: none;\n",
              "      border-radius: 50%;\n",
              "      cursor: pointer;\n",
              "      display: none;\n",
              "      fill: #1967D2;\n",
              "      height: 32px;\n",
              "      padding: 0 0 0 0;\n",
              "      width: 32px;\n",
              "    }\n",
              "\n",
              "    .colab-df-convert:hover {\n",
              "      background-color: #E2EBFA;\n",
              "      box-shadow: 0px 1px 2px rgba(60, 64, 67, 0.3), 0px 1px 3px 1px rgba(60, 64, 67, 0.15);\n",
              "      fill: #174EA6;\n",
              "    }\n",
              "\n",
              "    .colab-df-buttons div {\n",
              "      margin-bottom: 4px;\n",
              "    }\n",
              "\n",
              "    [theme=dark] .colab-df-convert {\n",
              "      background-color: #3B4455;\n",
              "      fill: #D2E3FC;\n",
              "    }\n",
              "\n",
              "    [theme=dark] .colab-df-convert:hover {\n",
              "      background-color: #434B5C;\n",
              "      box-shadow: 0px 1px 3px 1px rgba(0, 0, 0, 0.15);\n",
              "      filter: drop-shadow(0px 1px 2px rgba(0, 0, 0, 0.3));\n",
              "      fill: #FFFFFF;\n",
              "    }\n",
              "  </style>\n",
              "\n",
              "    <script>\n",
              "      const buttonEl =\n",
              "        document.querySelector('#df-3fff81f2-d1e0-4774-b25e-8c5905256975 button.colab-df-convert');\n",
              "      buttonEl.style.display =\n",
              "        google.colab.kernel.accessAllowed ? 'block' : 'none';\n",
              "\n",
              "      async function convertToInteractive(key) {\n",
              "        const element = document.querySelector('#df-3fff81f2-d1e0-4774-b25e-8c5905256975');\n",
              "        const dataTable =\n",
              "          await google.colab.kernel.invokeFunction('convertToInteractive',\n",
              "                                                    [key], {});\n",
              "        if (!dataTable) return;\n",
              "\n",
              "        const docLinkHtml = 'Like what you see? Visit the ' +\n",
              "          '<a target=\"_blank\" href=https://colab.research.google.com/notebooks/data_table.ipynb>data table notebook</a>'\n",
              "          + ' to learn more about interactive tables.';\n",
              "        element.innerHTML = '';\n",
              "        dataTable['output_type'] = 'display_data';\n",
              "        await google.colab.output.renderOutput(dataTable, element);\n",
              "        const docLink = document.createElement('div');\n",
              "        docLink.innerHTML = docLinkHtml;\n",
              "        element.appendChild(docLink);\n",
              "      }\n",
              "    </script>\n",
              "  </div>\n",
              "\n",
              "\n",
              "<div id=\"df-3ef3f183-7837-4168-97c0-c8931c95aee6\">\n",
              "  <button class=\"colab-df-quickchart\" onclick=\"quickchart('df-3ef3f183-7837-4168-97c0-c8931c95aee6')\"\n",
              "            title=\"Suggest charts\"\n",
              "            style=\"display:none;\">\n",
              "\n",
              "<svg xmlns=\"http://www.w3.org/2000/svg\" height=\"24px\"viewBox=\"0 0 24 24\"\n",
              "     width=\"24px\">\n",
              "    <g>\n",
              "        <path d=\"M19 3H5c-1.1 0-2 .9-2 2v14c0 1.1.9 2 2 2h14c1.1 0 2-.9 2-2V5c0-1.1-.9-2-2-2zM9 17H7v-7h2v7zm4 0h-2V7h2v10zm4 0h-2v-4h2v4z\"/>\n",
              "    </g>\n",
              "</svg>\n",
              "  </button>\n",
              "\n",
              "<style>\n",
              "  .colab-df-quickchart {\n",
              "      --bg-color: #E8F0FE;\n",
              "      --fill-color: #1967D2;\n",
              "      --hover-bg-color: #E2EBFA;\n",
              "      --hover-fill-color: #174EA6;\n",
              "      --disabled-fill-color: #AAA;\n",
              "      --disabled-bg-color: #DDD;\n",
              "  }\n",
              "\n",
              "  [theme=dark] .colab-df-quickchart {\n",
              "      --bg-color: #3B4455;\n",
              "      --fill-color: #D2E3FC;\n",
              "      --hover-bg-color: #434B5C;\n",
              "      --hover-fill-color: #FFFFFF;\n",
              "      --disabled-bg-color: #3B4455;\n",
              "      --disabled-fill-color: #666;\n",
              "  }\n",
              "\n",
              "  .colab-df-quickchart {\n",
              "    background-color: var(--bg-color);\n",
              "    border: none;\n",
              "    border-radius: 50%;\n",
              "    cursor: pointer;\n",
              "    display: none;\n",
              "    fill: var(--fill-color);\n",
              "    height: 32px;\n",
              "    padding: 0;\n",
              "    width: 32px;\n",
              "  }\n",
              "\n",
              "  .colab-df-quickchart:hover {\n",
              "    background-color: var(--hover-bg-color);\n",
              "    box-shadow: 0 1px 2px rgba(60, 64, 67, 0.3), 0 1px 3px 1px rgba(60, 64, 67, 0.15);\n",
              "    fill: var(--button-hover-fill-color);\n",
              "  }\n",
              "\n",
              "  .colab-df-quickchart-complete:disabled,\n",
              "  .colab-df-quickchart-complete:disabled:hover {\n",
              "    background-color: var(--disabled-bg-color);\n",
              "    fill: var(--disabled-fill-color);\n",
              "    box-shadow: none;\n",
              "  }\n",
              "\n",
              "  .colab-df-spinner {\n",
              "    border: 2px solid var(--fill-color);\n",
              "    border-color: transparent;\n",
              "    border-bottom-color: var(--fill-color);\n",
              "    animation:\n",
              "      spin 1s steps(1) infinite;\n",
              "  }\n",
              "\n",
              "  @keyframes spin {\n",
              "    0% {\n",
              "      border-color: transparent;\n",
              "      border-bottom-color: var(--fill-color);\n",
              "      border-left-color: var(--fill-color);\n",
              "    }\n",
              "    20% {\n",
              "      border-color: transparent;\n",
              "      border-left-color: var(--fill-color);\n",
              "      border-top-color: var(--fill-color);\n",
              "    }\n",
              "    30% {\n",
              "      border-color: transparent;\n",
              "      border-left-color: var(--fill-color);\n",
              "      border-top-color: var(--fill-color);\n",
              "      border-right-color: var(--fill-color);\n",
              "    }\n",
              "    40% {\n",
              "      border-color: transparent;\n",
              "      border-right-color: var(--fill-color);\n",
              "      border-top-color: var(--fill-color);\n",
              "    }\n",
              "    60% {\n",
              "      border-color: transparent;\n",
              "      border-right-color: var(--fill-color);\n",
              "    }\n",
              "    80% {\n",
              "      border-color: transparent;\n",
              "      border-right-color: var(--fill-color);\n",
              "      border-bottom-color: var(--fill-color);\n",
              "    }\n",
              "    90% {\n",
              "      border-color: transparent;\n",
              "      border-bottom-color: var(--fill-color);\n",
              "    }\n",
              "  }\n",
              "</style>\n",
              "\n",
              "  <script>\n",
              "    async function quickchart(key) {\n",
              "      const quickchartButtonEl =\n",
              "        document.querySelector('#' + key + ' button');\n",
              "      quickchartButtonEl.disabled = true;  // To prevent multiple clicks.\n",
              "      quickchartButtonEl.classList.add('colab-df-spinner');\n",
              "      try {\n",
              "        const charts = await google.colab.kernel.invokeFunction(\n",
              "            'suggestCharts', [key], {});\n",
              "      } catch (error) {\n",
              "        console.error('Error during call to suggestCharts:', error);\n",
              "      }\n",
              "      quickchartButtonEl.classList.remove('colab-df-spinner');\n",
              "      quickchartButtonEl.classList.add('colab-df-quickchart-complete');\n",
              "    }\n",
              "    (() => {\n",
              "      let quickchartButtonEl =\n",
              "        document.querySelector('#df-3ef3f183-7837-4168-97c0-c8931c95aee6 button');\n",
              "      quickchartButtonEl.style.display =\n",
              "        google.colab.kernel.accessAllowed ? 'block' : 'none';\n",
              "    })();\n",
              "  </script>\n",
              "</div>\n",
              "    </div>\n",
              "  </div>\n"
            ]
          },
          "metadata": {},
          "execution_count": 44
        }
      ]
    },
    {
      "cell_type": "code",
      "source": [
        "print(time_counts)"
      ],
      "metadata": {
        "colab": {
          "base_uri": "https://localhost:8080/"
        },
        "id": "8LXTxN6JxcSt",
        "outputId": "758aac2b-d276-442f-fd5f-2362fecfbf4d"
      },
      "execution_count": null,
      "outputs": [
        {
          "output_type": "stream",
          "name": "stdout",
          "text": [
            "mdy\n",
            "2011-10-04     1\n",
            "2011-10-22     1\n",
            "2011-11-14     1\n",
            "2011-12-21     1\n",
            "2012-01-21     1\n",
            "              ..\n",
            "2016-03-25     2\n",
            "2016-03-26     1\n",
            "2016-03-27     8\n",
            "2016-03-28    26\n",
            "2016-06-06     1\n",
            "Name: tweet_text, Length: 386, dtype: int64\n"
          ]
        }
      ]
    },
    {
      "cell_type": "code",
      "source": [
        "event_text = context_df.groupby('event')\n",
        "event_counts = event_text['event'].count()\n",
        "event_counts"
      ],
      "metadata": {
        "colab": {
          "base_uri": "https://localhost:8080/"
        },
        "id": "cWfSY_sS746K",
        "outputId": "7674f5d4-22e5-4acc-a259-10896d08e422"
      },
      "execution_count": null,
      "outputs": [
        {
          "output_type": "execute_result",
          "data": {
            "text/plain": [
              "event\n",
              "attacks_paris           181\n",
              "black_lion                7\n",
              "boston                  474\n",
              "bowie_david              64\n",
              "bringback               109\n",
              "brussels_explosions       9\n",
              "burst_kfc                15\n",
              "bush_book                25\n",
              "columbianChemicals      182\n",
              "eclipse                 200\n",
              "elephant                 11\n",
              "five_headed               5\n",
              "fuji_lenticular         147\n",
              "gandhi_dancing           13\n",
              "garissa                  44\n",
              "half_everything          34\n",
              "hubble_telescope         17\n",
              "immigrants               30\n",
              "john_guevara             10\n",
              "livr                      2\n",
              "malaysia                165\n",
              "mc_donalds                5\n",
              "nazi_submarine           10\n",
              "nepal                  1250\n",
              "north_korea               7\n",
              "not_afraid               48\n",
              "pakistan_explosion       34\n",
              "passport                 41\n",
              "pigFish                  12\n",
              "protest                  34\n",
              "refugees                 53\n",
              "rio_moon                 26\n",
              "samurai                 213\n",
              "sandy                  6073\n",
              "sochi                   259\n",
              "syrian_children          11\n",
              "underwater              107\n",
              "woman_14                 11\n",
              "Name: event, dtype: int64"
            ]
          },
          "metadata": {},
          "execution_count": 46
        }
      ]
    },
    {
      "cell_type": "code",
      "source": [
        "from datetime import datetime\n",
        "def convert_datetime(date_time):\n",
        "\n",
        "    formatted_date = date_time.strftime('%y%m%d')\n",
        "\n",
        "    return formatted_date"
      ],
      "metadata": {
        "id": "H8zlS9tWq7i3"
      },
      "execution_count": null,
      "outputs": []
    },
    {
      "cell_type": "code",
      "source": [
        "text_time_t = {}\n",
        "vocab_time_t = {}\n",
        "total_vocab = []\n",
        "all_unique_elements = set()\n",
        "\n",
        "# Iterate through the grouped data\n",
        "time_t = 0\n",
        "for time_stamp, group in event_text:\n",
        "  all_elements = []\n",
        "  unique_elements = set()\n",
        "  for elements in group['clean_tweet']:\n",
        "    all_elements.extend(elements)\n",
        "    unique_elements.update(elements)\n",
        "  text_time_t[time_t] = all_elements\n",
        "  vocab_time_t[time_t] = list(unique_elements)\n",
        "  all_unique_elements.update(unique_elements)\n",
        "  time_t += 1\n",
        "  # print(\"text_time_t\", len(all_elements))\n",
        "  # print(\"vocab_time_t\", len(list(unique_elements)))\n",
        "\n",
        "total_vocab = list(all_unique_elements)"
      ],
      "metadata": {
        "id": "ADIx21ZMkrDF"
      },
      "execution_count": null,
      "outputs": []
    },
    {
      "cell_type": "code",
      "source": [
        "print(\"text_time_t\", list(text_time_t))\n",
        "print(\"vocab_time_t\", list(vocab_time_t))"
      ],
      "metadata": {
        "colab": {
          "base_uri": "https://localhost:8080/"
        },
        "id": "1WxbULMLCgGO",
        "outputId": "579845ef-5e46-448a-c71f-7f25016bcd82"
      },
      "execution_count": null,
      "outputs": [
        {
          "output_type": "stream",
          "name": "stdout",
          "text": [
            "text_time_t [0, 1, 2, 3, 4, 5, 6, 7, 8, 9, 10, 11, 12, 13, 14, 15, 16, 17, 18, 19, 20, 21, 22, 23, 24, 25, 26, 27, 28, 29, 30, 31, 32, 33, 34, 35, 36, 37]\n",
            "vocab_time_t [0, 1, 2, 3, 4, 5, 6, 7, 8, 9, 10, 11, 12, 13, 14, 15, 16, 17, 18, 19, 20, 21, 22, 23, 24, 25, 26, 27, 28, 29, 30, 31, 32, 33, 34, 35, 36, 37]\n"
          ]
        }
      ]
    },
    {
      "cell_type": "code",
      "source": [
        "for t in text_time_t:\n",
        "    print(len(vocab_time_t[t]), len(text_time_t[t]))"
      ],
      "metadata": {
        "colab": {
          "base_uri": "https://localhost:8080/"
        },
        "id": "UHLwofUm9kBz",
        "outputId": "27ea04c1-100d-454d-8b4d-186cccf67400"
      },
      "execution_count": null,
      "outputs": [
        {
          "output_type": "stream",
          "name": "stdout",
          "text": [
            "254 1585\n",
            "17 51\n",
            "962 4039\n",
            "184 494\n",
            "233 533\n",
            "32 89\n",
            "27 85\n",
            "130 290\n",
            "407 1441\n",
            "325 1579\n",
            "6 28\n",
            "18 32\n",
            "270 1177\n",
            "64 113\n",
            "177 459\n",
            "37 301\n",
            "45 149\n",
            "167 270\n",
            "18 67\n",
            "16 20\n",
            "426 1365\n",
            "27 49\n",
            "15 81\n",
            "1060 11120\n",
            "18 61\n",
            "147 268\n",
            "71 289\n",
            "93 338\n",
            "62 80\n",
            "145 270\n",
            "217 525\n",
            "57 237\n",
            "108 2060\n",
            "4963 42637\n",
            "800 2043\n",
            "34 120\n",
            "106 856\n",
            "29 101\n"
          ]
        }
      ]
    },
    {
      "cell_type": "code",
      "source": [
        "def calculate_co_occurrence(text_at_time_t, vocab_time_t, total_vocab):\n",
        "\n",
        "    # Initialize the co-occurrence matrix\n",
        "    co_occurrence_matrix = pd.DataFrame(index=vocab_time_t, columns=total_vocab)\n",
        "    co_occurrence_matrix.fillna(0, inplace=True)\n",
        "\n",
        "    context_window = 3  # Define your context window\n",
        "\n",
        "    for k in range(len(text_at_time_t)):\n",
        "      for offset in range(1, context_window + 1):\n",
        "        if k + offset < len(text_at_time_t):\n",
        "          co_occurrence_matrix[text_at_time_t[k]][text_at_time_t[k + offset]] += 1\n",
        "          co_occurrence_matrix[text_at_time_t[k + offset]][text_at_time_t[k]] += 1\n",
        "\n",
        "    return co_occurrence_matrix\n",
        "\n",
        "co_oc_mat = []\n",
        "for t in text_time_t:\n",
        "    co_oc = calculate_co_occurrence(text_time_t[t], vocab_time_t[t], total_vocab)\n",
        "    co_oc_mat.append(co_oc)\n",
        "\n"
      ],
      "metadata": {
        "id": "kpz6hk6PKk_C"
      },
      "execution_count": null,
      "outputs": []
    },
    {
      "cell_type": "code",
      "source": [
        "len(total_vocab)"
      ],
      "metadata": {
        "colab": {
          "base_uri": "https://localhost:8080/"
        },
        "id": "6pK9SA_0m-Ej",
        "outputId": "2a3d7b05-9287-4dcf-c523-b5f3cf392507"
      },
      "execution_count": null,
      "outputs": [
        {
          "output_type": "execute_result",
          "data": {
            "text/plain": [
              "7791"
            ]
          },
          "metadata": {},
          "execution_count": 52
        }
      ]
    },
    {
      "cell_type": "code",
      "source": [
        "co_oc_file_path = '/content/drive/MyDrive/NLPR/combined_co_occurence.pkl'\n",
        "\n",
        "with open(co_oc_file_path, 'wb') as file:\n",
        "    pickle.dump(co_oc_mat, file)"
      ],
      "metadata": {
        "id": "8qQWz28XdqmO"
      },
      "execution_count": null,
      "outputs": []
    },
    {
      "cell_type": "code",
      "source": [
        "with open(co_oc_file_path, 'rb') as file:\n",
        "    loaded_co_oc = pickle.load(file)"
      ],
      "metadata": {
        "id": "UkOCltwRhXEr"
      },
      "execution_count": null,
      "outputs": []
    },
    {
      "cell_type": "code",
      "source": [
        "for co_oc in loaded_co_oc:\n",
        "    print(co_oc.shape)"
      ],
      "metadata": {
        "colab": {
          "base_uri": "https://localhost:8080/"
        },
        "id": "9s30q2WJhlzi",
        "outputId": "6c17841f-80b4-479c-df6c-b654d2fb094c"
      },
      "execution_count": null,
      "outputs": [
        {
          "output_type": "stream",
          "name": "stdout",
          "text": [
            "(254, 7791)\n",
            "(17, 7791)\n",
            "(962, 7791)\n",
            "(184, 7791)\n",
            "(233, 7791)\n",
            "(32, 7791)\n",
            "(27, 7791)\n",
            "(130, 7791)\n",
            "(407, 7791)\n",
            "(325, 7791)\n",
            "(6, 7791)\n",
            "(18, 7791)\n",
            "(270, 7791)\n",
            "(64, 7791)\n",
            "(177, 7791)\n",
            "(37, 7791)\n",
            "(45, 7791)\n",
            "(167, 7791)\n",
            "(18, 7791)\n",
            "(16, 7791)\n",
            "(426, 7791)\n",
            "(27, 7791)\n",
            "(15, 7791)\n",
            "(1060, 7791)\n",
            "(18, 7791)\n",
            "(147, 7791)\n",
            "(71, 7791)\n",
            "(93, 7791)\n",
            "(62, 7791)\n",
            "(145, 7791)\n",
            "(217, 7791)\n",
            "(57, 7791)\n",
            "(108, 7791)\n",
            "(4963, 7791)\n",
            "(800, 7791)\n",
            "(34, 7791)\n",
            "(106, 7791)\n",
            "(29, 7791)\n"
          ]
        }
      ]
    },
    {
      "cell_type": "markdown",
      "source": [
        "The next parts of the code is just to show how the algorithm calculates the co-occurrence matrix"
      ],
      "metadata": {
        "id": "S8bcpMWghlZc"
      }
    },
    {
      "cell_type": "code",
      "source": [
        "# Replace these with your actual vocabularies for time t and the total documents\n",
        "vocab_time_t = [\"word1\", \"word3\", \"word4\"]\n",
        "total_vocab = [\"word1\", \"word2\", \"word3\", \"word4\", \"word5\", \"word6\"]\n",
        "\n",
        "# Initialize the co-occurrence matrix\n",
        "co_occurrence_matrix = np.zeros((len(vocab_time_t), len(total_vocab)))\n",
        "\n",
        "context_window = 3  # Define your context window\n",
        "\n",
        "# Replace this with your actual text data at time t\n",
        "text_at_time_t = [\"word1\", \"word3\", \"word1\", \"word4\"]\n",
        "\n",
        "counter = 0\n",
        "for i, target_word_t in enumerate(vocab_time_t):\n",
        "    if target_word_t in total_vocab:\n",
        "        for j, target_word_total in enumerate(total_vocab):\n",
        "            if target_word_t != target_word_total:\n",
        "                # Count how many times the words co-occur in the specified context\n",
        "                co_occurrence_count = 0\n",
        "\n",
        "                # Implement co-occurrence counting logic based on context window and text data\n",
        "                for k in range(len(text_at_time_t)):\n",
        "                    if text_at_time_t[k] == target_word_t:\n",
        "                        for offset in range(1, context_window + 1):\n",
        "                            counter += 1\n",
        "                            if k - offset >= 0 and k - offset < len(text_at_time_t) and text_at_time_t[k - offset] == target_word_total:\n",
        "                                co_occurrence_count += 1\n",
        "                            if k + offset >= 0 and k + offset < len(text_at_time_t) and text_at_time_t[k + offset] == target_word_total:\n",
        "                                co_occurrence_count += 1\n",
        "\n",
        "                co_occurrence_matrix[i, j] = co_occurrence_count\n",
        "\n",
        "print(counter)\n",
        "co_occurrence_matrix"
      ],
      "metadata": {
        "colab": {
          "base_uri": "https://localhost:8080/"
        },
        "id": "5cAPSSBU89dW",
        "outputId": "abe30562-a546-4753-9c90-63269174087d"
      },
      "execution_count": null,
      "outputs": [
        {
          "output_type": "stream",
          "name": "stdout",
          "text": [
            "60\n"
          ]
        },
        {
          "output_type": "execute_result",
          "data": {
            "text/plain": [
              "array([[0., 0., 2., 2., 0., 0.],\n",
              "       [2., 0., 0., 1., 0., 0.],\n",
              "       [2., 0., 1., 0., 0., 0.]])"
            ]
          },
          "metadata": {},
          "execution_count": 22
        }
      ]
    },
    {
      "cell_type": "code",
      "source": [
        "# Replace these with your actual vocabularies for time t and the total documents\n",
        "vocab_time_t = [\"word1\", \"word3\", \"word4\"]\n",
        "total_vocab = [\"word1\", \"word2\", \"word3\", \"word4\", \"word5\", \"word6\"]\n",
        "\n",
        "# Initialize the co-occurrence matrix\n",
        "co_occurrence_matrix = pd.DataFrame(index=vocab_time_t, columns=total_vocab)\n",
        "co_occurrence_matrix.fillna(0, inplace=True)\n",
        "\n",
        "context_window = 3  # Define your context window\n",
        "\n",
        "# Replace this with your actual text data at time t\n",
        "text_at_time_t = [\"word1\", \"word3\", \"word1\", \"word4\"]\n",
        "\n",
        "for k in range(len(text_at_time_t)):\n",
        "  for offset in range(1, context_window + 1):\n",
        "    if k + offset < len(text_at_time_t) and text_at_time_t[k] != text_at_time_t[k + offset] :\n",
        "      co_occurrence_matrix[text_at_time_t[k]][text_at_time_t[k + offset]] += 1\n",
        "      co_occurrence_matrix[text_at_time_t[k + offset]][text_at_time_t[k]] += 1\n",
        "\n",
        "co_occurrence_matrix\n"
      ],
      "metadata": {
        "colab": {
          "base_uri": "https://localhost:8080/",
          "height": 143
        },
        "id": "eIMg_L8NGhWb",
        "outputId": "0d519970-98b9-4eeb-e992-2e68c7fabb72"
      },
      "execution_count": null,
      "outputs": [
        {
          "output_type": "execute_result",
          "data": {
            "text/plain": [
              "       word1  word2  word3  word4  word5  word6\n",
              "word1      0      0      2      2      0      0\n",
              "word3      2      0      0      1      0      0\n",
              "word4      2      0      1      0      0      0"
            ],
            "text/html": [
              "\n",
              "  <div id=\"df-e454e613-6e92-48aa-9192-68c530b20712\" class=\"colab-df-container\">\n",
              "    <div>\n",
              "<style scoped>\n",
              "    .dataframe tbody tr th:only-of-type {\n",
              "        vertical-align: middle;\n",
              "    }\n",
              "\n",
              "    .dataframe tbody tr th {\n",
              "        vertical-align: top;\n",
              "    }\n",
              "\n",
              "    .dataframe thead th {\n",
              "        text-align: right;\n",
              "    }\n",
              "</style>\n",
              "<table border=\"1\" class=\"dataframe\">\n",
              "  <thead>\n",
              "    <tr style=\"text-align: right;\">\n",
              "      <th></th>\n",
              "      <th>word1</th>\n",
              "      <th>word2</th>\n",
              "      <th>word3</th>\n",
              "      <th>word4</th>\n",
              "      <th>word5</th>\n",
              "      <th>word6</th>\n",
              "    </tr>\n",
              "  </thead>\n",
              "  <tbody>\n",
              "    <tr>\n",
              "      <th>word1</th>\n",
              "      <td>0</td>\n",
              "      <td>0</td>\n",
              "      <td>2</td>\n",
              "      <td>2</td>\n",
              "      <td>0</td>\n",
              "      <td>0</td>\n",
              "    </tr>\n",
              "    <tr>\n",
              "      <th>word3</th>\n",
              "      <td>2</td>\n",
              "      <td>0</td>\n",
              "      <td>0</td>\n",
              "      <td>1</td>\n",
              "      <td>0</td>\n",
              "      <td>0</td>\n",
              "    </tr>\n",
              "    <tr>\n",
              "      <th>word4</th>\n",
              "      <td>2</td>\n",
              "      <td>0</td>\n",
              "      <td>1</td>\n",
              "      <td>0</td>\n",
              "      <td>0</td>\n",
              "      <td>0</td>\n",
              "    </tr>\n",
              "  </tbody>\n",
              "</table>\n",
              "</div>\n",
              "    <div class=\"colab-df-buttons\">\n",
              "\n",
              "  <div class=\"colab-df-container\">\n",
              "    <button class=\"colab-df-convert\" onclick=\"convertToInteractive('df-e454e613-6e92-48aa-9192-68c530b20712')\"\n",
              "            title=\"Convert this dataframe to an interactive table.\"\n",
              "            style=\"display:none;\">\n",
              "\n",
              "  <svg xmlns=\"http://www.w3.org/2000/svg\" height=\"24px\" viewBox=\"0 -960 960 960\">\n",
              "    <path d=\"M120-120v-720h720v720H120Zm60-500h600v-160H180v160Zm220 220h160v-160H400v160Zm0 220h160v-160H400v160ZM180-400h160v-160H180v160Zm440 0h160v-160H620v160ZM180-180h160v-160H180v160Zm440 0h160v-160H620v160Z\"/>\n",
              "  </svg>\n",
              "    </button>\n",
              "\n",
              "  <style>\n",
              "    .colab-df-container {\n",
              "      display:flex;\n",
              "      gap: 12px;\n",
              "    }\n",
              "\n",
              "    .colab-df-convert {\n",
              "      background-color: #E8F0FE;\n",
              "      border: none;\n",
              "      border-radius: 50%;\n",
              "      cursor: pointer;\n",
              "      display: none;\n",
              "      fill: #1967D2;\n",
              "      height: 32px;\n",
              "      padding: 0 0 0 0;\n",
              "      width: 32px;\n",
              "    }\n",
              "\n",
              "    .colab-df-convert:hover {\n",
              "      background-color: #E2EBFA;\n",
              "      box-shadow: 0px 1px 2px rgba(60, 64, 67, 0.3), 0px 1px 3px 1px rgba(60, 64, 67, 0.15);\n",
              "      fill: #174EA6;\n",
              "    }\n",
              "\n",
              "    .colab-df-buttons div {\n",
              "      margin-bottom: 4px;\n",
              "    }\n",
              "\n",
              "    [theme=dark] .colab-df-convert {\n",
              "      background-color: #3B4455;\n",
              "      fill: #D2E3FC;\n",
              "    }\n",
              "\n",
              "    [theme=dark] .colab-df-convert:hover {\n",
              "      background-color: #434B5C;\n",
              "      box-shadow: 0px 1px 3px 1px rgba(0, 0, 0, 0.15);\n",
              "      filter: drop-shadow(0px 1px 2px rgba(0, 0, 0, 0.3));\n",
              "      fill: #FFFFFF;\n",
              "    }\n",
              "  </style>\n",
              "\n",
              "    <script>\n",
              "      const buttonEl =\n",
              "        document.querySelector('#df-e454e613-6e92-48aa-9192-68c530b20712 button.colab-df-convert');\n",
              "      buttonEl.style.display =\n",
              "        google.colab.kernel.accessAllowed ? 'block' : 'none';\n",
              "\n",
              "      async function convertToInteractive(key) {\n",
              "        const element = document.querySelector('#df-e454e613-6e92-48aa-9192-68c530b20712');\n",
              "        const dataTable =\n",
              "          await google.colab.kernel.invokeFunction('convertToInteractive',\n",
              "                                                    [key], {});\n",
              "        if (!dataTable) return;\n",
              "\n",
              "        const docLinkHtml = 'Like what you see? Visit the ' +\n",
              "          '<a target=\"_blank\" href=https://colab.research.google.com/notebooks/data_table.ipynb>data table notebook</a>'\n",
              "          + ' to learn more about interactive tables.';\n",
              "        element.innerHTML = '';\n",
              "        dataTable['output_type'] = 'display_data';\n",
              "        await google.colab.output.renderOutput(dataTable, element);\n",
              "        const docLink = document.createElement('div');\n",
              "        docLink.innerHTML = docLinkHtml;\n",
              "        element.appendChild(docLink);\n",
              "      }\n",
              "    </script>\n",
              "  </div>\n",
              "\n",
              "\n",
              "<div id=\"df-fffc6dbe-536e-4b60-8eaf-48ef4d346d3f\">\n",
              "  <button class=\"colab-df-quickchart\" onclick=\"quickchart('df-fffc6dbe-536e-4b60-8eaf-48ef4d346d3f')\"\n",
              "            title=\"Suggest charts\"\n",
              "            style=\"display:none;\">\n",
              "\n",
              "<svg xmlns=\"http://www.w3.org/2000/svg\" height=\"24px\"viewBox=\"0 0 24 24\"\n",
              "     width=\"24px\">\n",
              "    <g>\n",
              "        <path d=\"M19 3H5c-1.1 0-2 .9-2 2v14c0 1.1.9 2 2 2h14c1.1 0 2-.9 2-2V5c0-1.1-.9-2-2-2zM9 17H7v-7h2v7zm4 0h-2V7h2v10zm4 0h-2v-4h2v4z\"/>\n",
              "    </g>\n",
              "</svg>\n",
              "  </button>\n",
              "\n",
              "<style>\n",
              "  .colab-df-quickchart {\n",
              "      --bg-color: #E8F0FE;\n",
              "      --fill-color: #1967D2;\n",
              "      --hover-bg-color: #E2EBFA;\n",
              "      --hover-fill-color: #174EA6;\n",
              "      --disabled-fill-color: #AAA;\n",
              "      --disabled-bg-color: #DDD;\n",
              "  }\n",
              "\n",
              "  [theme=dark] .colab-df-quickchart {\n",
              "      --bg-color: #3B4455;\n",
              "      --fill-color: #D2E3FC;\n",
              "      --hover-bg-color: #434B5C;\n",
              "      --hover-fill-color: #FFFFFF;\n",
              "      --disabled-bg-color: #3B4455;\n",
              "      --disabled-fill-color: #666;\n",
              "  }\n",
              "\n",
              "  .colab-df-quickchart {\n",
              "    background-color: var(--bg-color);\n",
              "    border: none;\n",
              "    border-radius: 50%;\n",
              "    cursor: pointer;\n",
              "    display: none;\n",
              "    fill: var(--fill-color);\n",
              "    height: 32px;\n",
              "    padding: 0;\n",
              "    width: 32px;\n",
              "  }\n",
              "\n",
              "  .colab-df-quickchart:hover {\n",
              "    background-color: var(--hover-bg-color);\n",
              "    box-shadow: 0 1px 2px rgba(60, 64, 67, 0.3), 0 1px 3px 1px rgba(60, 64, 67, 0.15);\n",
              "    fill: var(--button-hover-fill-color);\n",
              "  }\n",
              "\n",
              "  .colab-df-quickchart-complete:disabled,\n",
              "  .colab-df-quickchart-complete:disabled:hover {\n",
              "    background-color: var(--disabled-bg-color);\n",
              "    fill: var(--disabled-fill-color);\n",
              "    box-shadow: none;\n",
              "  }\n",
              "\n",
              "  .colab-df-spinner {\n",
              "    border: 2px solid var(--fill-color);\n",
              "    border-color: transparent;\n",
              "    border-bottom-color: var(--fill-color);\n",
              "    animation:\n",
              "      spin 1s steps(1) infinite;\n",
              "  }\n",
              "\n",
              "  @keyframes spin {\n",
              "    0% {\n",
              "      border-color: transparent;\n",
              "      border-bottom-color: var(--fill-color);\n",
              "      border-left-color: var(--fill-color);\n",
              "    }\n",
              "    20% {\n",
              "      border-color: transparent;\n",
              "      border-left-color: var(--fill-color);\n",
              "      border-top-color: var(--fill-color);\n",
              "    }\n",
              "    30% {\n",
              "      border-color: transparent;\n",
              "      border-left-color: var(--fill-color);\n",
              "      border-top-color: var(--fill-color);\n",
              "      border-right-color: var(--fill-color);\n",
              "    }\n",
              "    40% {\n",
              "      border-color: transparent;\n",
              "      border-right-color: var(--fill-color);\n",
              "      border-top-color: var(--fill-color);\n",
              "    }\n",
              "    60% {\n",
              "      border-color: transparent;\n",
              "      border-right-color: var(--fill-color);\n",
              "    }\n",
              "    80% {\n",
              "      border-color: transparent;\n",
              "      border-right-color: var(--fill-color);\n",
              "      border-bottom-color: var(--fill-color);\n",
              "    }\n",
              "    90% {\n",
              "      border-color: transparent;\n",
              "      border-bottom-color: var(--fill-color);\n",
              "    }\n",
              "  }\n",
              "</style>\n",
              "\n",
              "  <script>\n",
              "    async function quickchart(key) {\n",
              "      const quickchartButtonEl =\n",
              "        document.querySelector('#' + key + ' button');\n",
              "      quickchartButtonEl.disabled = true;  // To prevent multiple clicks.\n",
              "      quickchartButtonEl.classList.add('colab-df-spinner');\n",
              "      try {\n",
              "        const charts = await google.colab.kernel.invokeFunction(\n",
              "            'suggestCharts', [key], {});\n",
              "      } catch (error) {\n",
              "        console.error('Error during call to suggestCharts:', error);\n",
              "      }\n",
              "      quickchartButtonEl.classList.remove('colab-df-spinner');\n",
              "      quickchartButtonEl.classList.add('colab-df-quickchart-complete');\n",
              "    }\n",
              "    (() => {\n",
              "      let quickchartButtonEl =\n",
              "        document.querySelector('#df-fffc6dbe-536e-4b60-8eaf-48ef4d346d3f button');\n",
              "      quickchartButtonEl.style.display =\n",
              "        google.colab.kernel.accessAllowed ? 'block' : 'none';\n",
              "    })();\n",
              "  </script>\n",
              "</div>\n",
              "    </div>\n",
              "  </div>\n"
            ]
          },
          "metadata": {},
          "execution_count": 23
        }
      ]
    }
  ]
}